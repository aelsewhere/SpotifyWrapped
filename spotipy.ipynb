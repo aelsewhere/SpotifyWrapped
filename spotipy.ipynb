{
 "cells": [
  {
   "cell_type": "code",
   "execution_count": 1,
   "metadata": {},
   "outputs": [],
   "source": [
    "# add imports\n",
    "import pandas as pd\n",
    "import numpy as np \n",
    "import matplotlib.pyplot as plt\n",
    "import json\n",
    "import os\n",
    "import requests\n",
    "from requests.auth import HTTPBasicAuth\n",
    "import spotipy"
   ]
  },
  {
   "cell_type": "code",
   "execution_count": 8,
   "metadata": {},
   "outputs": [],
   "source": [
    "file_paths = {\n",
    "  \"all_playlist_data\": \"Spotify Account Data/Processed Data/all_playlist_data.csv\",\n",
    "  \"missing_songs\": \"Spotify Account Data/Processed Data/missing_songs.csv\",\n",
    "  \"playlist_similarity\": \"Spotify Account Data/Processed Data/playlist_similarity.csv\",\n",
    "  \"streaming_history\": \"Spotify Account Data/Processed Data/streaming_history.csv\",\n",
    "  \"top_10_most_placed_songs\": \"Spotify Account Data/Processed Data/top_10_most_placed_songs.csv\",\n",
    "  \"top_20_missing_songs\": \"Spotify Account Data/Processed Data/top_20_missing_songs.csv\"\n",
    "}\n",
    "\n",
    "dataframes = {name: pd.read_csv(path) for name, path in file_paths.items()}\n",
    "\n",
    "all_playlist_data = dataframes[\"all_playlist_data\"]\n",
    "missing_songs = dataframes[\"missing_songs\"]\n",
    "playlist_similarity = dataframes[\"playlist_similarity\"]\n",
    "streaming_history = dataframes[\"streaming_history\"]\n",
    "top_10_most_placed_songs = dataframes[\"top_10_most_placed_songs\"]\n",
    "top_20_missing_songs = dataframes[\"top_20_missing_songs\"]"
   ]
  },
  {
   "cell_type": "code",
   "execution_count": 18,
   "metadata": {},
   "outputs": [],
   "source": [
    "# get the first entry of all_playlist_data\n",
    "track = all_playlist_data.head(1)\n"
   ]
  },
  {
   "cell_type": "code",
   "execution_count": 4,
   "metadata": {},
   "outputs": [],
   "source": [
    "client_id = '6352fa9445374bb791549c9c1faf7769'\n",
    "client_secret = 'd27b53bfcbc145208d15c5de54333773'"
   ]
  },
  {
   "cell_type": "code",
   "execution_count": 2,
   "metadata": {},
   "outputs": [],
   "source": [
    "# create a spotipy object\n",
    "from spotipy.oauth2 import SpotifyClientCredentials\n",
    "client_id = 'your_client_id'\n",
    "client_secret = 'your_client_secret'\n",
    "client_credentials_manager = SpotifyClientCredentials(client_id=client_id, client_secret=client_secret)\n",
    "sp = spotipy.Spotify(client_credentials_manager=client_credentials_manager)"
   ]
  },
  {
   "cell_type": "code",
   "execution_count": 5,
   "metadata": {},
   "outputs": [
    {
     "name": "stdout",
     "output_type": "stream",
     "text": [
      "Access token: BQD21tnd00LWJ5LQHx7NKZWwkzKv-OMr_KECj_8kCHO-eezsyAQf8G3WWaqzK3xLi7Q-QtWc5Q3tQiyO-tRykbv1oKovKZgSi610lKvw5KJtkJ3qRhQ\n"
     ]
    }
   ],
   "source": [
    "auth_url = 'https://accounts.spotify.com/api/token'\n",
    "auth_response = requests.post(auth_url, \n",
    "                auth=HTTPBasicAuth(client_id, client_secret), \n",
    "                data={'grant_type': 'client_credentials'})\n",
    "\n",
    "if auth_response.status_code == 200:\n",
    "  token = auth_response.json().get('access_token')\n",
    "  print(f\"Access token: {token}\")\n",
    "else:\n",
    "  print(f\"Failed to get access token. Status code: {auth_response.status_code}\")"
   ]
  },
  {
   "cell_type": "code",
   "execution_count": 19,
   "metadata": {},
   "outputs": [
    {
     "data": {
      "text/html": [
       "<div>\n",
       "<style scoped>\n",
       "    .dataframe tbody tr th:only-of-type {\n",
       "        vertical-align: middle;\n",
       "    }\n",
       "\n",
       "    .dataframe tbody tr th {\n",
       "        vertical-align: top;\n",
       "    }\n",
       "\n",
       "    .dataframe thead th {\n",
       "        text-align: right;\n",
       "    }\n",
       "</style>\n",
       "<table border=\"1\" class=\"dataframe\">\n",
       "  <thead>\n",
       "    <tr style=\"text-align: right;\">\n",
       "      <th></th>\n",
       "      <th>Track Name</th>\n",
       "      <th>Artist Name</th>\n",
       "      <th>Album Name</th>\n",
       "      <th>Track URI</th>\n",
       "      <th>22_04</th>\n",
       "      <th>22_05</th>\n",
       "      <th>22_06</th>\n",
       "      <th>22_07</th>\n",
       "      <th>22_08</th>\n",
       "      <th>22_09</th>\n",
       "      <th>...</th>\n",
       "      <th>the_void</th>\n",
       "      <th>time_seven_four_rock</th>\n",
       "      <th>time_six_eight_swing</th>\n",
       "      <th>time_twelve_eight_shuffle</th>\n",
       "      <th>trapezoid</th>\n",
       "      <th>twilight</th>\n",
       "      <th>universal_sound</th>\n",
       "      <th>voices_in_my_head</th>\n",
       "      <th>Zach_Bryan_Favorites</th>\n",
       "      <th>Number of Playlists</th>\n",
       "    </tr>\n",
       "  </thead>\n",
       "  <tbody>\n",
       "    <tr>\n",
       "      <th>0</th>\n",
       "      <td>\"Slut!\" (Taylor's Version) (From The Vault)</td>\n",
       "      <td>Taylor Swift</td>\n",
       "      <td>1989 (Taylor's Version)</td>\n",
       "      <td>spotify:track:0CD7DzeCsuPJygddqlUVYa</td>\n",
       "      <td>NaN</td>\n",
       "      <td>NaN</td>\n",
       "      <td>NaN</td>\n",
       "      <td>NaN</td>\n",
       "      <td>NaN</td>\n",
       "      <td>NaN</td>\n",
       "      <td>...</td>\n",
       "      <td>NaN</td>\n",
       "      <td>NaN</td>\n",
       "      <td>NaN</td>\n",
       "      <td>NaN</td>\n",
       "      <td>NaN</td>\n",
       "      <td>NaN</td>\n",
       "      <td>NaN</td>\n",
       "      <td>NaN</td>\n",
       "      <td>NaN</td>\n",
       "      <td>2.0</td>\n",
       "    </tr>\n",
       "  </tbody>\n",
       "</table>\n",
       "<p>1 rows × 107 columns</p>\n",
       "</div>"
      ],
      "text/plain": [
       "                                    Track Name   Artist Name  \\\n",
       "0  \"Slut!\" (Taylor's Version) (From The Vault)  Taylor Swift   \n",
       "\n",
       "                Album Name                             Track URI  22_04  \\\n",
       "0  1989 (Taylor's Version)  spotify:track:0CD7DzeCsuPJygddqlUVYa    NaN   \n",
       "\n",
       "   22_05  22_06  22_07  22_08  22_09  ...  the_void  time_seven_four_rock  \\\n",
       "0    NaN    NaN    NaN    NaN    NaN  ...       NaN                   NaN   \n",
       "\n",
       "   time_six_eight_swing  time_twelve_eight_shuffle  trapezoid  twilight  \\\n",
       "0                   NaN                        NaN        NaN       NaN   \n",
       "\n",
       "   universal_sound  voices_in_my_head  Zach_Bryan_Favorites  \\\n",
       "0              NaN                NaN                   NaN   \n",
       "\n",
       "   Number of Playlists  \n",
       "0                  2.0  \n",
       "\n",
       "[1 rows x 107 columns]"
      ]
     },
     "execution_count": 19,
     "metadata": {},
     "output_type": "execute_result"
    }
   ],
   "source": [
    "track"
   ]
  },
  {
   "cell_type": "code",
   "execution_count": null,
   "metadata": {},
   "outputs": [],
   "source": [
    "# let's get the audio features for one song right now. We are using Slut! by Taylor Swift, saved right now  as 'track'\n",
    "track_uri = track['Track URI']\n",
    "# extract identifier from track_uri by removing 'spotify:track:'\n",
    "track_id = "
   ]
  }
 ],
 "metadata": {
  "kernelspec": {
   "display_name": "Python 3",
   "language": "python",
   "name": "python3"
  },
  "language_info": {
   "codemirror_mode": {
    "name": "ipython",
    "version": 3
   },
   "file_extension": ".py",
   "mimetype": "text/x-python",
   "name": "python",
   "nbconvert_exporter": "python",
   "pygments_lexer": "ipython3",
   "version": "3.10.7"
  }
 },
 "nbformat": 4,
 "nbformat_minor": 2
}
